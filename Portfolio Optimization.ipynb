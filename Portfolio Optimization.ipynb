{
 "cells": [
  {
   "cell_type": "code",
   "execution_count": 1,
   "id": "2098ea85",
   "metadata": {},
   "outputs": [],
   "source": [
    "# Importing necessary libraries\n",
    "\n",
    "import numpy as np\n",
    "import pandas as pd\n",
    "import matplotlib.pyplot as plt\n",
    "from datetime import datetime\n",
    "import yfinance as yf\n",
    "# plt.style.use('fivethirtyeight')"
   ]
  },
  {
   "cell_type": "code",
   "execution_count": 2,
   "id": "96c3d1e0",
   "metadata": {},
   "outputs": [
    {
     "data": {
      "text/plain": [
       "'2023-10-19'"
      ]
     },
     "execution_count": 2,
     "metadata": {},
     "output_type": "execute_result"
    }
   ],
   "source": [
    "# Getting the stock tickers for the portfolio\n",
    "\n",
    "assets=['TCS','HDFCBANK','ITC','RELIANCE','IRCTC']\n",
    "\n",
    "# Assigning weights\n",
    "\n",
    "weights=np.array([0.2,0.2,0.2,0.2,0.2])\n",
    "\n",
    "start_date='2020-01-01'\n",
    "today=datetime.today().strftime('%Y-%m-%d')\n",
    "today"
   ]
  },
  {
   "cell_type": "code",
   "execution_count": 3,
   "id": "fe7cc008",
   "metadata": {},
   "outputs": [
    {
     "name": "stdout",
     "output_type": "stream",
     "text": [
      "[*********************100%%**********************]  1 of 1 completed\n",
      "[*********************100%%**********************]  1 of 1 completed\n",
      "[*********************100%%**********************]  1 of 1 completed\n",
      "[*********************100%%**********************]  1 of 1 completed\n",
      "[*********************100%%**********************]  1 of 1 completed\n"
     ]
    },
    {
     "data": {
      "text/html": [
       "<div>\n",
       "<style scoped>\n",
       "    .dataframe tbody tr th:only-of-type {\n",
       "        vertical-align: middle;\n",
       "    }\n",
       "\n",
       "    .dataframe tbody tr th {\n",
       "        vertical-align: top;\n",
       "    }\n",
       "\n",
       "    .dataframe thead th {\n",
       "        text-align: right;\n",
       "    }\n",
       "</style>\n",
       "<table border=\"1\" class=\"dataframe\">\n",
       "  <thead>\n",
       "    <tr style=\"text-align: right;\">\n",
       "      <th></th>\n",
       "      <th>TCS</th>\n",
       "      <th>HDFCBANK</th>\n",
       "      <th>ITC</th>\n",
       "      <th>RELIANCE</th>\n",
       "      <th>IRCTC</th>\n",
       "    </tr>\n",
       "    <tr>\n",
       "      <th>Date</th>\n",
       "      <th></th>\n",
       "      <th></th>\n",
       "      <th></th>\n",
       "      <th></th>\n",
       "      <th></th>\n",
       "    </tr>\n",
       "  </thead>\n",
       "  <tbody>\n",
       "    <tr>\n",
       "      <th>2020-01-01</th>\n",
       "      <td>2013.780029</td>\n",
       "      <td>1244.189819</td>\n",
       "      <td>201.114258</td>\n",
       "      <td>1475.384155</td>\n",
       "      <td>184.826920</td>\n",
       "    </tr>\n",
       "    <tr>\n",
       "      <th>2020-01-02</th>\n",
       "      <td>2004.536133</td>\n",
       "      <td>1252.120361</td>\n",
       "      <td>202.592422</td>\n",
       "      <td>1500.501709</td>\n",
       "      <td>182.096664</td>\n",
       "    </tr>\n",
       "    <tr>\n",
       "      <th>2020-01-03</th>\n",
       "      <td>2044.485107</td>\n",
       "      <td>1234.264282</td>\n",
       "      <td>201.452103</td>\n",
       "      <td>1502.309814</td>\n",
       "      <td>182.292358</td>\n",
       "    </tr>\n",
       "    <tr>\n",
       "      <th>2020-01-06</th>\n",
       "      <td>2044.299194</td>\n",
       "      <td>1207.552856</td>\n",
       "      <td>198.580246</td>\n",
       "      <td>1467.467651</td>\n",
       "      <td>175.060562</td>\n",
       "    </tr>\n",
       "    <tr>\n",
       "      <th>2020-01-07</th>\n",
       "      <td>2049.315918</td>\n",
       "      <td>1226.674072</td>\n",
       "      <td>198.791443</td>\n",
       "      <td>1490.044067</td>\n",
       "      <td>177.595123</td>\n",
       "    </tr>\n",
       "    <tr>\n",
       "      <th>...</th>\n",
       "      <td>...</td>\n",
       "      <td>...</td>\n",
       "      <td>...</td>\n",
       "      <td>...</td>\n",
       "      <td>...</td>\n",
       "    </tr>\n",
       "    <tr>\n",
       "      <th>2023-10-12</th>\n",
       "      <td>3542.550049</td>\n",
       "      <td>1549.849976</td>\n",
       "      <td>450.700012</td>\n",
       "      <td>2349.399902</td>\n",
       "      <td>700.250000</td>\n",
       "    </tr>\n",
       "    <tr>\n",
       "      <th>2023-10-13</th>\n",
       "      <td>3570.850098</td>\n",
       "      <td>1535.750000</td>\n",
       "      <td>448.350006</td>\n",
       "      <td>2349.300049</td>\n",
       "      <td>704.150024</td>\n",
       "    </tr>\n",
       "    <tr>\n",
       "      <th>2023-10-16</th>\n",
       "      <td>3524.050049</td>\n",
       "      <td>1529.599976</td>\n",
       "      <td>448.950012</td>\n",
       "      <td>2344.050049</td>\n",
       "      <td>703.349976</td>\n",
       "    </tr>\n",
       "    <tr>\n",
       "      <th>2023-10-17</th>\n",
       "      <td>3507.050049</td>\n",
       "      <td>1541.199951</td>\n",
       "      <td>453.450012</td>\n",
       "      <td>2355.250000</td>\n",
       "      <td>714.599976</td>\n",
       "    </tr>\n",
       "    <tr>\n",
       "      <th>2023-10-18</th>\n",
       "      <td>3487.250000</td>\n",
       "      <td>1519.750000</td>\n",
       "      <td>451.649994</td>\n",
       "      <td>2324.000000</td>\n",
       "      <td>703.849976</td>\n",
       "    </tr>\n",
       "  </tbody>\n",
       "</table>\n",
       "<p>944 rows × 5 columns</p>\n",
       "</div>"
      ],
      "text/plain": [
       "                    TCS     HDFCBANK         ITC     RELIANCE       IRCTC\n",
       "Date                                                                     \n",
       "2020-01-01  2013.780029  1244.189819  201.114258  1475.384155  184.826920\n",
       "2020-01-02  2004.536133  1252.120361  202.592422  1500.501709  182.096664\n",
       "2020-01-03  2044.485107  1234.264282  201.452103  1502.309814  182.292358\n",
       "2020-01-06  2044.299194  1207.552856  198.580246  1467.467651  175.060562\n",
       "2020-01-07  2049.315918  1226.674072  198.791443  1490.044067  177.595123\n",
       "...                 ...          ...         ...          ...         ...\n",
       "2023-10-12  3542.550049  1549.849976  450.700012  2349.399902  700.250000\n",
       "2023-10-13  3570.850098  1535.750000  448.350006  2349.300049  704.150024\n",
       "2023-10-16  3524.050049  1529.599976  448.950012  2344.050049  703.349976\n",
       "2023-10-17  3507.050049  1541.199951  453.450012  2355.250000  714.599976\n",
       "2023-10-18  3487.250000  1519.750000  451.649994  2324.000000  703.849976\n",
       "\n",
       "[944 rows x 5 columns]"
      ]
     },
     "execution_count": 3,
     "metadata": {},
     "output_type": "execute_result"
    }
   ],
   "source": [
    "# Dataframe to store adjusted close prices of the assets\n",
    "\n",
    "df=pd.DataFrame()\n",
    "for stock in assets:\n",
    "    df[stock]=yf.download(stock+'.NS',start=start_date,end=today)['Adj Close']\n",
    "\n",
    "df"
   ]
  },
  {
   "cell_type": "code",
   "execution_count": 15,
   "id": "7c993c42",
   "metadata": {},
   "outputs": [
    {
     "data": {
      "image/png": "[encoded data removed]",
      "text/plain": [
       "<Figure size 640x480 with 1 Axes>"
      ]
     },
     "metadata": {},
     "output_type": "display_data"
    }
   ],
   "source": [
    "# Plotting the stocks\n",
    "\n",
    "title='Portfolio Adj. Close Price History'\n",
    "my_stocks=df\n",
    "for col in my_stocks.columns.values:\n",
    "    plt.plot(my_stocks[col],label=col)\n",
    "\n",
    "plt.title(title)\n",
    "plt.xlabel('Date',fontsize=18)\n",
    "plt.ylabel('Adj. Close Price (in INR)',fontsize=18)\n",
    "plt.legend(my_stocks.columns.values,loc='upper left')\n",
    "plt.show()"
   ]
  },
  {
   "cell_type": "code",
   "execution_count": 5,
   "id": "d1453e78",
   "metadata": {},
   "outputs": [
    {
     "data": {
      "text/html": [
       "<div>\n",
       "<style scoped>\n",
       "    .dataframe tbody tr th:only-of-type {\n",
       "        vertical-align: middle;\n",
       "    }\n",
       "\n",
       "    .dataframe tbody tr th {\n",
       "        vertical-align: top;\n",
       "    }\n",
       "\n",
       "    .dataframe thead th {\n",
       "        text-align: right;\n",
       "    }\n",
       "</style>\n",
       "<table border=\"1\" class=\"dataframe\">\n",
       "  <thead>\n",
       "    <tr style=\"text-align: right;\">\n",
       "      <th></th>\n",
       "      <th>TCS</th>\n",
       "      <th>HDFCBANK</th>\n",
       "      <th>ITC</th>\n",
       "      <th>RELIANCE</th>\n",
       "      <th>IRCTC</th>\n",
       "    </tr>\n",
       "    <tr>\n",
       "      <th>Date</th>\n",
       "      <th></th>\n",
       "      <th></th>\n",
       "      <th></th>\n",
       "      <th></th>\n",
       "      <th></th>\n",
       "    </tr>\n",
       "  </thead>\n",
       "  <tbody>\n",
       "    <tr>\n",
       "      <th>2020-01-01</th>\n",
       "      <td>NaN</td>\n",
       "      <td>NaN</td>\n",
       "      <td>NaN</td>\n",
       "      <td>NaN</td>\n",
       "      <td>NaN</td>\n",
       "    </tr>\n",
       "    <tr>\n",
       "      <th>2020-01-02</th>\n",
       "      <td>-0.004590</td>\n",
       "      <td>0.006374</td>\n",
       "      <td>0.007350</td>\n",
       "      <td>0.017024</td>\n",
       "      <td>-0.014772</td>\n",
       "    </tr>\n",
       "    <tr>\n",
       "      <th>2020-01-03</th>\n",
       "      <td>0.019929</td>\n",
       "      <td>-0.014261</td>\n",
       "      <td>-0.005629</td>\n",
       "      <td>0.001205</td>\n",
       "      <td>0.001075</td>\n",
       "    </tr>\n",
       "    <tr>\n",
       "      <th>2020-01-06</th>\n",
       "      <td>-0.000091</td>\n",
       "      <td>-0.021642</td>\n",
       "      <td>-0.014256</td>\n",
       "      <td>-0.023192</td>\n",
       "      <td>-0.039671</td>\n",
       "    </tr>\n",
       "    <tr>\n",
       "      <th>2020-01-07</th>\n",
       "      <td>0.002454</td>\n",
       "      <td>0.015835</td>\n",
       "      <td>0.001064</td>\n",
       "      <td>0.015385</td>\n",
       "      <td>0.014478</td>\n",
       "    </tr>\n",
       "    <tr>\n",
       "      <th>...</th>\n",
       "      <td>...</td>\n",
       "      <td>...</td>\n",
       "      <td>...</td>\n",
       "      <td>...</td>\n",
       "      <td>...</td>\n",
       "    </tr>\n",
       "    <tr>\n",
       "      <th>2023-10-12</th>\n",
       "      <td>-0.018657</td>\n",
       "      <td>0.006658</td>\n",
       "      <td>0.005466</td>\n",
       "      <td>0.001855</td>\n",
       "      <td>-0.006174</td>\n",
       "    </tr>\n",
       "    <tr>\n",
       "      <th>2023-10-13</th>\n",
       "      <td>0.007989</td>\n",
       "      <td>-0.009098</td>\n",
       "      <td>-0.005214</td>\n",
       "      <td>-0.000043</td>\n",
       "      <td>0.005569</td>\n",
       "    </tr>\n",
       "    <tr>\n",
       "      <th>2023-10-16</th>\n",
       "      <td>-0.013106</td>\n",
       "      <td>-0.004005</td>\n",
       "      <td>0.001338</td>\n",
       "      <td>-0.002235</td>\n",
       "      <td>-0.001136</td>\n",
       "    </tr>\n",
       "    <tr>\n",
       "      <th>2023-10-17</th>\n",
       "      <td>-0.004824</td>\n",
       "      <td>0.007584</td>\n",
       "      <td>0.010023</td>\n",
       "      <td>0.004778</td>\n",
       "      <td>0.015995</td>\n",
       "    </tr>\n",
       "    <tr>\n",
       "      <th>2023-10-18</th>\n",
       "      <td>-0.005646</td>\n",
       "      <td>-0.013918</td>\n",
       "      <td>-0.003970</td>\n",
       "      <td>-0.013268</td>\n",
       "      <td>-0.015043</td>\n",
       "    </tr>\n",
       "  </tbody>\n",
       "</table>\n",
       "<p>944 rows × 5 columns</p>\n",
       "</div>"
      ],
      "text/plain": [
       "                 TCS  HDFCBANK       ITC  RELIANCE     IRCTC\n",
       "Date                                                        \n",
       "2020-01-01       NaN       NaN       NaN       NaN       NaN\n",
       "2020-01-02 -0.004590  0.006374  0.007350  0.017024 -0.014772\n",
       "2020-01-03  0.019929 -0.014261 -0.005629  0.001205  0.001075\n",
       "2020-01-06 -0.000091 -0.021642 -0.014256 -0.023192 -0.039671\n",
       "2020-01-07  0.002454  0.015835  0.001064  0.015385  0.014478\n",
       "...              ...       ...       ...       ...       ...\n",
       "2023-10-12 -0.018657  0.006658  0.005466  0.001855 -0.006174\n",
       "2023-10-13  0.007989 -0.009098 -0.005214 -0.000043  0.005569\n",
       "2023-10-16 -0.013106 -0.004005  0.001338 -0.002235 -0.001136\n",
       "2023-10-17 -0.004824  0.007584  0.010023  0.004778  0.015995\n",
       "2023-10-18 -0.005646 -0.013918 -0.003970 -0.013268 -0.015043\n",
       "\n",
       "[944 rows x 5 columns]"
      ]
     },
     "execution_count": 5,
     "metadata": {},
     "output_type": "execute_result"
    }
   ],
   "source": [
    "# Daily returns\n",
    "\n",
    "returns=df.pct_change()\n",
    "returns"
   ]
  },
  {
   "cell_type": "code",
   "execution_count": 6,
   "id": "1043f794",
   "metadata": {},
   "outputs": [
    {
     "data": {
      "text/html": [
       "<div>\n",
       "<style scoped>\n",
       "    .dataframe tbody tr th:only-of-type {\n",
       "        vertical-align: middle;\n",
       "    }\n",
       "\n",
       "    .dataframe tbody tr th {\n",
       "        vertical-align: top;\n",
       "    }\n",
       "\n",
       "    .dataframe thead th {\n",
       "        text-align: right;\n",
       "    }\n",
       "</style>\n",
       "<table border=\"1\" class=\"dataframe\">\n",
       "  <thead>\n",
       "    <tr style=\"text-align: right;\">\n",
       "      <th></th>\n",
       "      <th>TCS</th>\n",
       "      <th>HDFCBANK</th>\n",
       "      <th>ITC</th>\n",
       "      <th>RELIANCE</th>\n",
       "      <th>IRCTC</th>\n",
       "    </tr>\n",
       "  </thead>\n",
       "  <tbody>\n",
       "    <tr>\n",
       "      <th>TCS</th>\n",
       "      <td>0.064887</td>\n",
       "      <td>0.026387</td>\n",
       "      <td>0.018181</td>\n",
       "      <td>0.032947</td>\n",
       "      <td>0.017409</td>\n",
       "    </tr>\n",
       "    <tr>\n",
       "      <th>HDFCBANK</th>\n",
       "      <td>0.026387</td>\n",
       "      <td>0.083538</td>\n",
       "      <td>0.025127</td>\n",
       "      <td>0.042333</td>\n",
       "      <td>0.029391</td>\n",
       "    </tr>\n",
       "    <tr>\n",
       "      <th>ITC</th>\n",
       "      <td>0.018181</td>\n",
       "      <td>0.025127</td>\n",
       "      <td>0.077089</td>\n",
       "      <td>0.026656</td>\n",
       "      <td>0.026546</td>\n",
       "    </tr>\n",
       "    <tr>\n",
       "      <th>RELIANCE</th>\n",
       "      <td>0.032947</td>\n",
       "      <td>0.042333</td>\n",
       "      <td>0.026656</td>\n",
       "      <td>0.102964</td>\n",
       "      <td>0.031988</td>\n",
       "    </tr>\n",
       "    <tr>\n",
       "      <th>IRCTC</th>\n",
       "      <td>0.017409</td>\n",
       "      <td>0.029391</td>\n",
       "      <td>0.026546</td>\n",
       "      <td>0.031988</td>\n",
       "      <td>0.175453</td>\n",
       "    </tr>\n",
       "  </tbody>\n",
       "</table>\n",
       "</div>"
      ],
      "text/plain": [
       "               TCS  HDFCBANK       ITC  RELIANCE     IRCTC\n",
       "TCS       0.064887  0.026387  0.018181  0.032947  0.017409\n",
       "HDFCBANK  0.026387  0.083538  0.025127  0.042333  0.029391\n",
       "ITC       0.018181  0.025127  0.077089  0.026656  0.026546\n",
       "RELIANCE  0.032947  0.042333  0.026656  0.102964  0.031988\n",
       "IRCTC     0.017409  0.029391  0.026546  0.031988  0.175453"
      ]
     },
     "execution_count": 6,
     "metadata": {},
     "output_type": "execute_result"
    }
   ],
   "source": [
    "# Annualized covariance matrix\n",
    "\n",
    "cov_matrix_annual=returns.cov()*252\n",
    "cov_matrix_annual"
   ]
  },
  {
   "cell_type": "code",
   "execution_count": 7,
   "id": "c1a346d7",
   "metadata": {},
   "outputs": [
    {
     "data": {
      "text/plain": [
       "0.042314426288677806"
      ]
     },
     "execution_count": 7,
     "metadata": {},
     "output_type": "execute_result"
    }
   ],
   "source": [
    "# Portfolio variance\n",
    "\n",
    "port_variance=np.dot(weights.T,np.dot(cov_matrix_annual,weights))\n",
    "port_variance"
   ]
  },
  {
   "cell_type": "code",
   "execution_count": 8,
   "id": "b6bebeec",
   "metadata": {},
   "outputs": [
    {
     "data": {
      "text/plain": [
       "0.20570470653020512"
      ]
     },
     "execution_count": 8,
     "metadata": {},
     "output_type": "execute_result"
    }
   ],
   "source": [
    "# Calculating the portfolio volatility/standard deviation\n",
    "\n",
    "port_volatility=np.sqrt(port_variance)\n",
    "port_volatility"
   ]
  },
  {
   "cell_type": "code",
   "execution_count": 9,
   "id": "3289f0d1",
   "metadata": {},
   "outputs": [
    {
     "data": {
      "text/plain": [
       "0.22951461380513768"
      ]
     },
     "execution_count": 9,
     "metadata": {},
     "output_type": "execute_result"
    }
   ],
   "source": [
    "# Calculating annual portfolio return\n",
    "\n",
    "port_ret=np.sum(returns.mean()*weights)*252\n",
    "port_ret"
   ]
  },
  {
   "cell_type": "code",
   "execution_count": 10,
   "id": "a9bb392a",
   "metadata": {},
   "outputs": [
    {
     "name": "stdout",
     "output_type": "stream",
     "text": [
      "Expected Annual Return = 23.0%\n",
      "Annual Volatility (risk) = 21.0%\n",
      "Annual Variance = 4.0%\n"
     ]
    }
   ],
   "source": [
    "# Expected annual return, volatility, variance\n",
    "\n",
    "\n",
    "percent_var=str(round(port_variance,2)*100)+'%'\n",
    "percent_volt=str(round(port_volatility,2)*100)+'%'\n",
    "percent_ret=str(round(port_ret,2)*100)+'%'\n",
    "\n",
    "print('Expected Annual Return = '+percent_ret)\n",
    "print('Annual Volatility (risk) = '+percent_volt)\n",
    "print('Annual Variance = '+percent_var)"
   ]
  },
  {
   "cell_type": "code",
   "execution_count": 12,
   "id": "6fb1acbe",
   "metadata": {},
   "outputs": [],
   "source": [
    "from pypfopt.efficient_frontier import EfficientFrontier\n",
    "from pypfopt import risk_models\n",
    "from pypfopt import expected_returns"
   ]
  },
  {
   "cell_type": "code",
   "execution_count": 13,
   "id": "89267ed1",
   "metadata": {},
   "outputs": [
    {
     "name": "stdout",
     "output_type": "stream",
     "text": [
      "OrderedDict([('TCS', 0.21438), ('HDFCBANK', 0.0), ('ITC', 0.39511), ('RELIANCE', 0.0), ('IRCTC', 0.39052)])\n",
      "Expected annual return: 29.7%\n",
      "Annual volatility: 23.7%\n",
      "Sharpe Ratio: 1.17\n"
     ]
    },
    {
     "data": {
      "text/plain": [
       "(0.2969707662719771, 0.23655956029387387, 1.1708288852409983)"
      ]
     },
     "execution_count": 13,
     "metadata": {},
     "output_type": "execute_result"
    }
   ],
   "source": [
    "# OPTIMIZATION\n",
    "\n",
    "mu=expected_returns.mean_historical_return(df)   \n",
    "S=risk_models.sample_cov(df)  # annualized sample covariance matrix\n",
    "\n",
    "# Optimizing for max Sharpe Ratio\n",
    "\n",
    "ef=EfficientFrontier(mu,S)\n",
    "weights=ef.max_sharpe()\n",
    "cleaned_weights=ef.clean_weights()\n",
    "print(cleaned_weights)\n",
    "ef.portfolio_performance(verbose=True)"
   ]
  },
  {
   "cell_type": "code",
   "execution_count": 14,
   "id": "600cacfe",
   "metadata": {},
   "outputs": [
    {
     "name": "stdout",
     "output_type": "stream",
     "text": [
      "Discrete Allocation:  {'TCS': 6, 'ITC': 87, 'IRCTC': 56}\n",
      "Funds remaining: Rs. 367.35\n"
     ]
    }
   ],
   "source": [
    "# Getting discrete allocation of each share per stock\n",
    "\n",
    "from pypfopt.discrete_allocation import DiscreteAllocation,get_latest_prices\n",
    "\n",
    "latest_prices=get_latest_prices(df)\n",
    "weights=cleaned_weights\n",
    "da=DiscreteAllocation(weights,latest_prices,total_portfolio_value=100000)\n",
    "allocation,leftover=da.lp_portfolio()\n",
    "print('Discrete Allocation: ',allocation)\n",
    "print('Funds remaining: Rs. {:.2f}'.format(leftover))"
   ]
  }
 ],
 "metadata": {
  "kernelspec": {
   "display_name": "Python 3 (ipykernel)",
   "language": "python",
   "name": "python3"
  },
  "language_info": {
   "codemirror_mode": {
    "name": "ipython",
    "version": 3
   },
   "file_extension": ".py",
   "mimetype": "text/x-python",
   "name": "python",
   "nbconvert_exporter": "python",
   "pygments_lexer": "ipython3",
   "version": "3.10.9"
  }
 },
 "nbformat": 4,
 "nbformat_minor": 5
}
